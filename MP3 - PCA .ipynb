{
 "cells": [
  {
   "cell_type": "markdown",
   "metadata": {},
   "source": [
    "# Read Data"
   ]
  },
  {
   "cell_type": "code",
   "execution_count": 133,
   "metadata": {},
   "outputs": [],
   "source": [
    "import pandas as pd\n",
    "import numpy as np\n",
    "\n",
    "data_I = pd.read_csv(\"hw3-data/dataI.csv\").values\n",
    "data_II = pd.read_csv(\"hw3-data/dataII.csv\").values\n",
    "data_III = pd.read_csv(\"hw3-data/dataIII.csv\").values\n",
    "data_IV = pd.read_csv(\"hw3-data/dataIV.csv\").values\n",
    "data_V = pd.read_csv(\"hw3-data/dataV.csv\").values\n",
    "iris_data = pd.read_csv(\"hw3-data/iris.csv\").values"
   ]
  },
  {
   "cell_type": "markdown",
   "metadata": {},
   "source": [
    "# PCA"
   ]
  },
  {
   "cell_type": "code",
   "execution_count": 152,
   "metadata": {},
   "outputs": [],
   "source": [
    "def mean_square_error(data, data_PCA):\n",
    "    error = 0\n",
    "    for i in range(len(data)):\n",
    "        error += np.dot(data[i] - data_PCA[i], data[i] - data_PCA[i])\n",
    "    return error / float(len(data))\n",
    "\n",
    "def eigenDecomposition(covmat):\n",
    "    eigenValues, eigenVectors = np.linalg.eig(covmat)\n",
    "    idx = eigenValues.argsort()[::-1]   \n",
    "    eigenValues = eigenValues[idx]\n",
    "    eigenVectors = eigenVectors[:,idx]\n",
    "    return eigenValues, eigenVectors\n",
    "\n",
    "def to_low_dimensional_data(data, eigen_vectors, n_features, mean):\n",
    "    X = []\n",
    "    for i in range(len(data)):\n",
    "        x = [0]*4\n",
    "        x += mean\n",
    "        for j in range(n_features):\n",
    "            x += np.dot(eigen_vectors[:,j], (data[i] - mean)) * eigen_vectors[:,j]\n",
    "        X.append(x)\n",
    "    return np.array(X)"
   ]
  },
  {
   "cell_type": "markdown",
   "metadata": {},
   "source": [
    "## 1) Table"
   ]
  },
  {
   "cell_type": "code",
   "execution_count": 156,
   "metadata": {},
   "outputs": [],
   "source": [
    "X = []\n",
    "for j in [data_I, data_II, data_III, data_IV, data_V]:\n",
    "    x = []\n",
    "    for i in [\"0N\", \"1N\", \"2N\", \"3N\", \"4N\", \"0c\", \"1c\", \"2c\", \"3c\", \"4c\"]:\n",
    "        data = iris_data if i[1] == \"N\" else j\n",
    "        mean = np.mean(data, axis=0)\n",
    "        mean_j = np.mean(j, axis=0)\n",
    "        covmat = np.cov(data, rowvar=False)\n",
    "        covmat_j = np.cov(j, rowvar=False)      \n",
    "        covmat_eig_values, covmat_eig_vectors = eigenDecomposition(covmat)\n",
    "        covmat_eig_values_j, covmat_eig_vectors_j = eigenDecomposition(covmat_j)\n",
    "        data_PCA = to_low_dimensional_data(j, covmat_eig_vectors, int(i[0]), mean)\n",
    "        x.append(mean_square_error(data, data_PCA))\n",
    "    X.append(x)\n",
    "np.savetxt(\"cinquin2-numbers.csv\", X, delimiter=\",\", header=\"0N,1N,2N,3N,4N,0c,1c,2c,3c,4c\", comments='')"
   ]
  },
  {
   "cell_type": "markdown",
   "metadata": {},
   "source": [
    "## 2) Reconstruction of DataSet I"
   ]
  },
  {
   "cell_type": "code",
   "execution_count": 140,
   "metadata": {},
   "outputs": [],
   "source": [
    "mean_data_I = np.mean(data_I, axis=0)\n",
    "covmat_data_I = np.cov(data_I, rowvar=False)\n",
    "data_I_covmat_eig_values, data_I_covmat_eig_vectors = eigenDecomposition(covmat_data_I)\n",
    "data_I_PCA = to_low_dimensional_data(data_I, data_I_covmat_eig_vectors, 2, mean_data_I)\n",
    "np.savetxt(\"cinquin2-recon.csv\", data_I_PCA, delimiter=\",\", header=\"Sepal.Length,Sepal.Width,Petal.Length,Petal.Width\", comments='')"
   ]
  },
  {
   "cell_type": "code",
   "execution_count": null,
   "metadata": {},
   "outputs": [],
   "source": []
  }
 ],
 "metadata": {
  "kernelspec": {
   "display_name": "Python 3",
   "language": "python",
   "name": "python3"
  },
  "language_info": {
   "codemirror_mode": {
    "name": "ipython",
    "version": 3
   },
   "file_extension": ".py",
   "mimetype": "text/x-python",
   "name": "python",
   "nbconvert_exporter": "python",
   "pygments_lexer": "ipython3",
   "version": "3.6.2"
  }
 },
 "nbformat": 4,
 "nbformat_minor": 2
}
